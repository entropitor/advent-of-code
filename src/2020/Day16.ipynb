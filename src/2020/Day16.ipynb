{
  "cells": [
    {
      "cell_type": "code",
      "source": [
        "#load \"shared.fsx\"\n",
        "open Shared\n",
        "open System"
      ],
      "outputs": [
        {
          "output_type": "display_data",
          "data": {
            "text/html": "\r\n<div>\r\n    <div id='dotnet-interactive-this-cell-69607.Microsoft.DotNet.Interactive.Http.HttpPort' style='display: none'>\r\n        The below script needs to be able to find the current output cell; this is an easy method to get it.\r\n    </div>\r\n    <script type='text/javascript'>\r\nasync function probeAddresses(probingAddresses) {\r\n    function timeout(ms, promise) {\r\n        return new Promise(function (resolve, reject) {\r\n            setTimeout(function () {\r\n                reject(new Error('timeout'))\r\n            }, ms)\r\n            promise.then(resolve, reject)\r\n        })\r\n    }\r\n\r\n    if (Array.isArray(probingAddresses)) {\r\n        for (let i = 0; i < probingAddresses.length; i++) {\r\n\r\n            let rootUrl = probingAddresses[i];\r\n\r\n            if (!rootUrl.endsWith('/')) {\r\n                rootUrl = `${rootUrl}/`;\r\n            }\r\n\r\n            try {\r\n                let response = await timeout(1000, fetch(`${rootUrl}discovery`, {\r\n                    method: 'POST',\r\n                    cache: 'no-cache',\r\n                    mode: 'cors',\r\n                    timeout: 1000,\r\n                    headers: {\r\n                        'Content-Type': 'text/plain'\r\n                    },\r\n                    body: probingAddresses[i]\r\n                }));\r\n\r\n                if (response.status == 200) {\r\n                    return rootUrl;\r\n                }\r\n            }\r\n            catch (e) { }\r\n        }\r\n    }\r\n}\r\n\r\nfunction loadDotnetInteractiveApi() {\r\n    probeAddresses([\"http://192.168.0.208:1035/\", \"http://127.0.0.1:1035/\"])\r\n        .then((root) => {\r\n        // use probing to find host url and api resources\r\n        // load interactive helpers and language services\r\n        let dotnetInteractiveRequire = require.config({\r\n        context: '69607.Microsoft.DotNet.Interactive.Http.HttpPort',\r\n                paths:\r\n            {\r\n                'dotnet-interactive': `${root}resources`\r\n                }\r\n        }) || require;\r\n\r\n            window.dotnetInteractiveRequire = dotnetInteractiveRequire;\r\n\r\n            window.configureRequireFromExtension = function(extensionName, extensionCacheBuster) {\r\n                let paths = {};\r\n                paths[extensionName] = `${root}extensions/${extensionName}/resources/`;\r\n                \r\n                let internalRequire = require.config({\r\n                    context: extensionCacheBuster,\r\n                    paths: paths,\r\n                    urlArgs: `cacheBuster=${extensionCacheBuster}`\r\n                    }) || require;\r\n\r\n                return internalRequire\r\n            };\r\n        \r\n            dotnetInteractiveRequire([\r\n                    'dotnet-interactive/dotnet-interactive'\r\n                ],\r\n                function (dotnet) {\r\n                    dotnet.init(window);\r\n                },\r\n                function (error) {\r\n                    console.log(error);\r\n                }\r\n            );\r\n        })\r\n        .catch(error => {console.log(error);});\r\n    }\r\n\r\n// ensure `require` is available globally\r\nif ((typeof(require) !==  typeof(Function)) || (typeof(require.config) !== typeof(Function))) {\r\n    let require_script = document.createElement('script');\r\n    require_script.setAttribute('src', 'https://cdnjs.cloudflare.com/ajax/libs/require.js/2.3.6/require.min.js');\r\n    require_script.setAttribute('type', 'text/javascript');\r\n    \r\n    \r\n    require_script.onload = function() {\r\n        loadDotnetInteractiveApi();\r\n    };\r\n\r\n    document.getElementsByTagName('head')[0].appendChild(require_script);\r\n}\r\nelse {\r\n    loadDotnetInteractiveApi();\r\n}\r\n\r\n    </script>\r\n</div>"
          },
          "metadata": {}
        }
      ],
      "execution_count": 1,
      "metadata": {
        "collapsed": true,
        "jupyter": {
          "source_hidden": false,
          "outputs_hidden": false
        },
        "nteract": {
          "transient": {
            "deleting": false
          }
        },
        "execution": {
          "iopub.status.busy": "2021-01-06T17:10:08.761Z",
          "iopub.execute_input": "2021-01-06T17:10:08.764Z",
          "iopub.status.idle": "2021-01-06T17:10:08.857Z"
        }
      }
    },
    {
      "cell_type": "code",
      "source": [
        "let lines =\n",
        "  let input = \"\"\"class: 1-3 or 5-7\n",
        "row: 6-11 or 33-44\n",
        "seat: 13-40 or 45-50\n",
        "\n",
        "your ticket:\n",
        "7,1,14\n",
        "\n",
        "nearby tickets:\n",
        "7,3,47\n",
        "40,4,50\n",
        "55,2,20\n",
        "38,6,12\"\"\"\n",
        "  input.Split(\"\\n\")"
      ],
      "outputs": [],
      "execution_count": 2,
      "metadata": {
        "collapsed": true,
        "jupyter": {
          "source_hidden": false,
          "outputs_hidden": false
        },
        "nteract": {
          "transient": {
            "deleting": false
          }
        },
        "execution": {
          "iopub.status.busy": "2021-01-06T17:05:30.790Z",
          "iopub.execute_input": "2021-01-06T17:05:30.793Z",
          "iopub.status.idle": "2021-01-06T17:05:31.042Z"
        }
      }
    },
    {
      "cell_type": "code",
      "execution_count": 3,
      "metadata": {},
      "outputs": [
        {
          "output_type": "execute_result",
          "data": {
            "text/html": "<table><thead><tr><th><i>index</i></th><th>value</th></tr></thead><tbody><tr><td>0</td><td><div class=\"dni-plaintext\">class: 1-3 or 5-7</div></td></tr><tr><td>1</td><td><div class=\"dni-plaintext\">row: 6-11 or 33-44</div></td></tr><tr><td>2</td><td><div class=\"dni-plaintext\">seat: 13-40 or 45-50</div></td></tr><tr><td>3</td><td></td></tr><tr><td>4</td><td><div class=\"dni-plaintext\">your ticket:</div></td></tr><tr><td>5</td><td><div class=\"dni-plaintext\">7,1,14</div></td></tr><tr><td>6</td><td></td></tr><tr><td>7</td><td><div class=\"dni-plaintext\">nearby tickets:</div></td></tr><tr><td>8</td><td><div class=\"dni-plaintext\">7,3,47</div></td></tr><tr><td>9</td><td><div class=\"dni-plaintext\">40,4,50</div></td></tr><tr><td>10</td><td><div class=\"dni-plaintext\">55,2,20</div></td></tr><tr><td>11</td><td><div class=\"dni-plaintext\">38,6,12</div></td></tr></tbody></table>"
          },
          "metadata": {},
          "execution_count": 3
        }
      ],
      "source": [
        "lines"
      ]
    },
    {
      "cell_type": "code",
      "execution_count": 4,
      "metadata": {},
      "outputs": [],
      "source": [
        "open System.Text.RegularExpressions\n",
        "\n",
        "let parse lines =\n",
        "    let parseTicket (line: string) = line.Split(\",\") |> Seq.map int\n",
        "    let parseGroup (line: string) =\n",
        "        let parts = line.Split(\": \")\n",
        "        let ranges = parts.[1].Split(\" or \")\n",
        "        let parseRange (range: string) = \n",
        "            let parts = range.Split(\"-\")\n",
        "            int parts.[0], int parts.[1]\n",
        "        parts.[0], ranges |> Seq.map parseRange\n",
        "\n",
        "    let groups = lines |> Seq.takeWhile (fun x -> x <> \"\") |> Seq.map parseGroup\n",
        "    let ticket = lines |> Seq.skip (Seq.length groups + 2) |> Seq.head |> parseTicket\n",
        "    let otherTickets = lines |> Seq.skip (Seq.length groups + 5) |> Seq.map parseTicket\n",
        "    groups, ticket, otherTickets"
      ]
    },
    {
      "cell_type": "code",
      "execution_count": 5,
      "metadata": {},
      "outputs": [
        {
          "output_type": "execute_result",
          "data": {
            "text/html": "<table><thead><tr><th><i>index</i></th><th>Item1</th><th>Item2</th></tr></thead><tbody><tr><td>0</td><td><div class=\"dni-plaintext\">class</div></td><td><div class=\"dni-plaintext\">[ ( 1, 3 ), ( 5, 7 ) ]</div></td></tr><tr><td>1</td><td><div class=\"dni-plaintext\">row</div></td><td><div class=\"dni-plaintext\">[ ( 6, 11 ), ( 33, 44 ) ]</div></td></tr><tr><td>2</td><td><div class=\"dni-plaintext\">seat</div></td><td><div class=\"dni-plaintext\">[ ( 13, 40 ), ( 45, 50 ) ]</div></td></tr></tbody></table>"
          },
          "metadata": {},
          "execution_count": 5
        }
      ],
      "source": [
        "parse lines |> fun (a, b, c) -> a"
      ]
    },
    {
      "cell_type": "code",
      "execution_count": 13,
      "metadata": {},
      "outputs": [],
      "source": [
        "let inRangeGroup x group =\n",
        "    snd group |> Seq.exists (fun (min, max) -> min <= x && x <= max)"
      ]
    },
    {
      "cell_type": "code",
      "execution_count": 14,
      "metadata": {},
      "outputs": [],
      "source": [
        "let inRange groups x =\n",
        "    groups |> Seq.exists (inRangeGroup x)"
      ]
    },
    {
      "cell_type": "code",
      "execution_count": 17,
      "metadata": {},
      "outputs": [],
      "source": [
        "let mainSimple lines =\n",
        "    let groups, ticket, otherTickets = parse lines\n",
        "    let not f x = not (f x)\n",
        "    otherTickets \n",
        "    |> Seq.collect (Seq.filter (not (inRange groups)))\n",
        "    |> Seq.sum"
      ]
    },
    {
      "cell_type": "code",
      "execution_count": 18,
      "metadata": {},
      "outputs": [
        {
          "output_type": "execute_result",
          "data": {
            "text/html": "<div class=\"dni-plaintext\">71</div>"
          },
          "metadata": {},
          "execution_count": 18
        }
      ],
      "source": [
        "mainSimple lines"
      ]
    },
    {
      "cell_type": "code",
      "execution_count": 9,
      "metadata": {},
      "outputs": [
        {
          "output_type": "error",
          "ename": "Error",
          "evalue": "Pip module debugpy is required for debugging cells. You will need to install it to debug cells.",
          "traceback": [
            "Error: Pip module debugpy is required for debugging cells. You will need to install it to debug cells.",
            "at b.parseConnectInfo (/Users/jens/.vscode/extensions/ms-toolsai.jupyter-2020.12.414227025/out/client/extension.js:49:486235)",
            "at b.connectToLocal (/Users/jens/.vscode/extensions/ms-toolsai.jupyter-2020.12.414227025/out/client/extension.js:49:486838)",
            "at async b.connect (/Users/jens/.vscode/extensions/ms-toolsai.jupyter-2020.12.414227025/out/client/extension.js:49:484715)",
            "at async b.startDebugSession (/Users/jens/.vscode/extensions/ms-toolsai.jupyter-2020.12.414227025/out/client/extension.js:49:483862)",
            "at async f.submitCode (/Users/jens/.vscode/extensions/ms-toolsai.jupyter-2020.12.414227025/out/client/extension.js:32:585464)",
            "at async f.handleRunByLine (/Users/jens/.vscode/extensions/ms-toolsai.jupyter-2020.12.414227025/out/client/extension.js:9:173871)"
          ]
        }
      ],
      "source": [
        "inputLines |> mainSimple |> printfn \"%A\""
      ]
    },
    {
      "cell_type": "code",
      "execution_count": 78,
      "metadata": {},
      "outputs": [],
      "source": [
        "let mainComplex lines =\n",
        "    let groups, ticket, otherTickets = parse lines\n",
        "    let otherTickets = otherTickets |> Seq.filter (Seq.forall (inRange groups))\n",
        "    let allTickets = Seq.append (Seq.singleton ticket) otherTickets\n",
        "    let possibleDomains = \n",
        "        Seq.init (Seq.length groups) (fun i -> \n",
        "            groups \n",
        "            |> Seq.filter (fun group ->\n",
        "                    allTickets |> Seq.forall (fun otherTicket ->\n",
        "                        let item = Seq.item i otherTicket\n",
        "                        inRangeGroup item group\n",
        "                    ))\n",
        "            |> Seq.map fst\n",
        "            |> Set\n",
        "        )\n",
        "    printfn \"%A\" possibleDomains\n",
        "\n",
        "    let rec findSolution possibleDomains groupNamesToRemove removedNames  =\n",
        "        printfn \"%A\\n%A\\n%A\\n======\\n\\n\" possibleDomains groupNamesToRemove removedNames\n",
        "        let newPossibleDomains = possibleDomains |> Seq.map (fun possibleGroups -> \n",
        "            if Set.count possibleGroups = 1 then possibleGroups else Set.difference possibleGroups groupNamesToRemove)\n",
        "        if Seq.forall (fun possibleSet -> Set.count possibleSet <= 1) newPossibleDomains then\n",
        "            newPossibleDomains\n",
        "        else\n",
        "            let foundGroups = newPossibleDomains |> Seq.filter (fun x -> Set.count x = 1) |> Seq.collect id |> Set\n",
        "            let newFoundGroups = Set.difference foundGroups removedNames\n",
        "            if Set.count newFoundGroups = 0 then\n",
        "                printfn \"%A\" possibleDomains\n",
        "            findSolution newPossibleDomains newFoundGroups (Set.union groupNamesToRemove removedNames)\n",
        "    let assingedGroups = findSolution possibleDomains Set.empty Set.empty\n",
        "    printfn \"%A\" assingedGroups\n",
        "\n",
        "    assingedGroups\n",
        "    |> Seq.map (fun set -> Seq.head set)\n",
        "    |> Seq.indexed\n",
        "    |> Seq.filter (fun (_, (name: string)) -> name.StartsWith(\"departure\"))\n",
        "    |> Seq.map fst\n",
        "    |> Seq.map (fun i -> Seq.item i ticket |> int64)\n",
        "    |> Seq.fold (fun a b -> a * b) 1L"
      ]
    },
    {
      "cell_type": "code",
      "execution_count": 79,
      "metadata": {},
      "outputs": [
        {
          "output_type": "stream",
          "name": "stdout",
          "text": [
            "seq [set [\"class\"; \"row\"]; set [\"class\"]; set [\"seat\"]]\n",
            "seq [set [\"class\"; \"row\"]; set [\"class\"]; set [\"seat\"]]\n",
            "set []\n",
            "set []\n",
            "======\n",
            "\n",
            "\n",
            "seq [set [\"class\"; \"row\"]; set [\"class\"]; set [\"seat\"]]\n",
            "set [\"class\"; \"seat\"]\n",
            "set []\n",
            "======\n",
            "\n",
            "\n",
            "seq [set [\"row\"]; set [\"class\"]; set [\"seat\"]]\n"
          ]
        },
        {
          "output_type": "execute_result",
          "data": {
            "text/html": "<div class=\"dni-plaintext\">1</div>"
          },
          "metadata": {},
          "execution_count": 79
        }
      ],
      "source": [
        "mainComplex lines"
      ]
    },
    {
      "cell_type": "code",
      "execution_count": null,
      "metadata": {},
      "outputs": [],
      "source": [
        "mainComplex inputLines |> printfn \"%A\""
      ]
    }
  ],
  "metadata": {
    "kernel_info": {
      "name": ".net-fsharp"
    },
    "language_info": {
      "name": "C#",
      "version": "4.5",
      "mimetype": "text/x-fsharp",
      "file_extension": ".fs",
      "pygments_lexer": "fsharp"
    },
    "kernelspec": {
      "argv": [
        "dotnet",
        "interactive",
        "jupyter",
        "--default-kernel",
        "fsharp",
        "--http-port-range",
        "1000-3000",
        "{connection_file}"
      ],
      "display_name": ".NET (F#)",
      "language": "F#",
      "name": ".net-fsharp"
    },
    "nteract": {
      "version": "0.27.0"
    }
  },
  "nbformat": 4,
  "nbformat_minor": 0
}